{
  "nbformat": 4,
  "nbformat_minor": 0,
  "metadata": {
    "colab": {
      "provenance": []
    },
    "kernelspec": {
      "name": "python3",
      "display_name": "Python 3"
    },
    "language_info": {
      "name": "python"
    }
  },
  "cells": [
    {
      "cell_type": "code",
      "execution_count": null,
      "metadata": {
        "id": "pnV8JYIBnMrs"
      },
      "outputs": [],
      "source": [
        "import numpy as np\n",
        "import matplotlib.pyplot as plt\n",
        "%matplotlib inline"
      ]
    },
    {
      "cell_type": "code",
      "source": [
        "# residual things\n",
        "residuals = []\n",
        "for i in range(0, len(height)):\n",
        "    residuals.append(height[i] - y_fit[12 * i])"
      ],
      "metadata": {
        "id": "NqKN6hTvzPht"
      },
      "execution_count": null,
      "outputs": []
    },
    {
      "cell_type": "code",
      "source": [
        "# convert the data to arrays so the fit can be done better (walker)\n",
        "convtime = np.array(convtimelist)\n",
        "height = np.array(heightlist)\n",
        "\n",
        "x = np.linspace(0, 1000, 50000)\n",
        "# define the function to fit\n",
        "def f_osc(x, A, w1, delta1, const1, w2, delta2, const2):\n",
        "    return (A * np.sin(x * w1 + delta1) + const1) * np.sin(x * w2 + delta2) + const2\n",
        "\n",
        "# define an array for error\n",
        "rms_error = np.full(82, 0.25)\n",
        "\n",
        "# run the scipy curve fitting package\n",
        "params, params_cov = optimize.curve_fit(f_osc, convtime, height, sigma = rms_error)\n",
        "\n",
        "A_fit = params[0]\n",
        "w1_fit = params[1]\n",
        "delta1_fit = params[2]\n",
        "const1_fit = params[3]\n",
        "w2_fit = params[4]\n",
        "delta2_fit = params[5]\n",
        "const2_fit = params[6]\n",
        "\n",
        "# final fit line\n",
        "y_fit = (A_fit * np.sin(x * w1_fit + delta1_fit) + const1_fit) * np.sin(x * w2_fit + delta2_fit) + const2_fit\n"
      ],
      "metadata": {
        "id": "GND_7aGow7AB"
      },
      "execution_count": null,
      "outputs": []
    },
    {
      "cell_type": "code",
      "source": [
        "# fit line stuff (saul)\n",
        "\n",
        "# convert the data to arrays so the fit can be done better\n",
        "convtime = np.array(convtimelist)\n",
        "height = np.array(heightlist)\n",
        "\n",
        "# define the function to fit\n",
        "def f_osc(x, A, w, delta, const):\n",
        "    return A * np.sin(x * w + delta) + const\n",
        "\n",
        "# define an array for error\n",
        "rms_error = np.full(82, 0.25)\n",
        "\n",
        "# run the scipy curve fitting package\n",
        "params, params_cov = optimize.curve_fit(f_osc, convtime, height, sigma = rms_error)\n",
        "\n",
        "A_fit = params[0]\n",
        "w_fit = params[1]\n",
        "delta_fit = params[2]\n",
        "const_fit = params[3]\n",
        "\n",
        "# final fit line\n",
        "y_fit = A_fit * np.sin(x * w_fit + delta_fit) + const_fit"
      ],
      "metadata": {
        "id": "4kSceLaYwm1S"
      },
      "execution_count": null,
      "outputs": []
    },
    {
      "cell_type": "code",
      "source": [
        "# Walker's ideas\n",
        "days = data[:, [0]]\n",
        "time = data[:, [1]]\n",
        "height = data[:, [2]]\n",
        "\n",
        "convtime = []\n",
        "'''\n",
        "turns time (HH:MM) into a value in hours\n",
        "'''\n",
        "for i in time:\n",
        "    x = str(i[0]).split(':')\n",
        "    hours = int(x[0])\n",
        "    mins = int(x[1])\n",
        "    convtime.append(hours + mins / 60)\n",
        "\n",
        "'''\n",
        "turns days into hours\n",
        "'''\n",
        "for i in range(0, len(convtime)):\n",
        "    convtime[i] += math.ceil((i+1)/2) * 24\n",
        "print(convtime)\n"
      ],
      "metadata": {
        "id": "E6236w-Tw1w7"
      },
      "execution_count": null,
      "outputs": []
    },
    {
      "cell_type": "code",
      "source": [
        "# Bobbys Ideas\n",
        "group_project_data = np.genfromtxt(\"group_project_data.txt\", dtype = str)\n",
        "print(group_project_data)\n",
        "data = np.array(group_project_data)\n",
        "days = data[:,[0]]\n",
        "times = data[:,[1]]\n",
        "height = data[:,[2]]\n",
        "\n",
        "#make strings floats\n",
        "def convert_strings_to_floats(input_array):\n",
        "    output_array = []\n",
        "    for element in input_array:\n",
        "        converted_float = float(element)\n",
        "        output_array.append(converted_float)\n",
        "    return output_array\n",
        "days = convert_strings_to_floats(days)\n",
        "height = convert_strings_to_floats(height)\n",
        "\n",
        "#make days into hours\n",
        "def convert_days_to_hours(input_array):\n",
        "    output_array2 = []\n",
        "    for i in input_array:\n",
        "        days_as_hours = i*24\n",
        "        output_array2.append(days_as_hours)\n",
        "    return output_array2\n",
        "days_as_hours = convert_days_to_hours(days)\n",
        "\n",
        "days_as_hours = list(days_as_hours)\n",
        "\n",
        "#adding our days\n",
        "final_times = [time_list[i] + days_as_hours[i] for i in range(len(time_list))]\n",
        "\n",
        "\n",
        "#histogram of risiduals\n",
        "height_predicted = y_fit\n",
        "resid = height - height_predicted\n",
        "#create the histogram bins\n",
        "width = .3\n",
        "histmin = np.floor(min(resid))   #np.floor rounds to the closest smallest integer\n",
        "histmax = np.ceil(max(resid)) + width  #np.ceil rounds t the closest largest integer\n",
        "\n",
        "bins = np.arange(histmin,histmax,width)\n",
        "plt.hist(resid, bins=bins)\n",
        "plt.xlabel('how much our expected height differs from our data')\n",
        "plt.ylabel('amount of times we saw this particular deviation')\n",
        "plt.title('residual histogram')\n",
        "plt.savefig('ResiduaslHistogram.pdf')"
      ],
      "metadata": {
        "id": "_YD1H_S7nxax",
        "outputId": "ba949ba4-a1cd-4a3b-8cd4-81808b5cf791",
        "colab": {
          "base_uri": "https://localhost:8080/",
          "height": 365
        }
      },
      "execution_count": null,
      "outputs": [
        {
          "output_type": "error",
          "ename": "FileNotFoundError",
          "evalue": "group_project_data.txt not found.",
          "traceback": [
            "\u001b[0;31m---------------------------------------------------------------------------\u001b[0m",
            "\u001b[0;31mFileNotFoundError\u001b[0m                         Traceback (most recent call last)",
            "\u001b[0;32m<ipython-input-3-38acd1873a85>\u001b[0m in \u001b[0;36m<cell line: 2>\u001b[0;34m()\u001b[0m\n\u001b[1;32m      1\u001b[0m \u001b[0;31m# Bobbys Ideas\u001b[0m\u001b[0;34m\u001b[0m\u001b[0;34m\u001b[0m\u001b[0m\n\u001b[0;32m----> 2\u001b[0;31m \u001b[0mgroup_project_data\u001b[0m \u001b[0;34m=\u001b[0m \u001b[0mnp\u001b[0m\u001b[0;34m.\u001b[0m\u001b[0mgenfromtxt\u001b[0m\u001b[0;34m(\u001b[0m\u001b[0;34m\"group_project_data.txt\"\u001b[0m\u001b[0;34m,\u001b[0m \u001b[0mdtype\u001b[0m \u001b[0;34m=\u001b[0m \u001b[0mstr\u001b[0m\u001b[0;34m)\u001b[0m\u001b[0;34m\u001b[0m\u001b[0;34m\u001b[0m\u001b[0m\n\u001b[0m\u001b[1;32m      3\u001b[0m \u001b[0mprint\u001b[0m\u001b[0;34m(\u001b[0m\u001b[0mgroup_project_data\u001b[0m\u001b[0;34m)\u001b[0m\u001b[0;34m\u001b[0m\u001b[0;34m\u001b[0m\u001b[0m\n\u001b[1;32m      4\u001b[0m \u001b[0mdata\u001b[0m \u001b[0;34m=\u001b[0m \u001b[0mnp\u001b[0m\u001b[0;34m.\u001b[0m\u001b[0marray\u001b[0m\u001b[0;34m(\u001b[0m\u001b[0mgroup_project_data\u001b[0m\u001b[0;34m)\u001b[0m\u001b[0;34m\u001b[0m\u001b[0;34m\u001b[0m\u001b[0m\n\u001b[1;32m      5\u001b[0m \u001b[0mdays\u001b[0m \u001b[0;34m=\u001b[0m \u001b[0mdata\u001b[0m\u001b[0;34m[\u001b[0m\u001b[0;34m:\u001b[0m\u001b[0;34m,\u001b[0m\u001b[0;34m[\u001b[0m\u001b[0;36m0\u001b[0m\u001b[0;34m]\u001b[0m\u001b[0;34m]\u001b[0m\u001b[0;34m\u001b[0m\u001b[0;34m\u001b[0m\u001b[0m\n",
            "\u001b[0;32m/usr/local/lib/python3.10/dist-packages/numpy/lib/npyio.py\u001b[0m in \u001b[0;36mgenfromtxt\u001b[0;34m(fname, dtype, comments, delimiter, skip_header, skip_footer, converters, missing_values, filling_values, usecols, names, excludelist, deletechars, replace_space, autostrip, case_sensitive, defaultfmt, unpack, usemask, loose, invalid_raise, max_rows, encoding, ndmin, like)\u001b[0m\n\u001b[1;32m   1978\u001b[0m         \u001b[0mfname\u001b[0m \u001b[0;34m=\u001b[0m \u001b[0mos_fspath\u001b[0m\u001b[0;34m(\u001b[0m\u001b[0mfname\u001b[0m\u001b[0;34m)\u001b[0m\u001b[0;34m\u001b[0m\u001b[0;34m\u001b[0m\u001b[0m\n\u001b[1;32m   1979\u001b[0m     \u001b[0;32mif\u001b[0m \u001b[0misinstance\u001b[0m\u001b[0;34m(\u001b[0m\u001b[0mfname\u001b[0m\u001b[0;34m,\u001b[0m \u001b[0mstr\u001b[0m\u001b[0;34m)\u001b[0m\u001b[0;34m:\u001b[0m\u001b[0;34m\u001b[0m\u001b[0;34m\u001b[0m\u001b[0m\n\u001b[0;32m-> 1980\u001b[0;31m         \u001b[0mfid\u001b[0m \u001b[0;34m=\u001b[0m \u001b[0mnp\u001b[0m\u001b[0;34m.\u001b[0m\u001b[0mlib\u001b[0m\u001b[0;34m.\u001b[0m\u001b[0m_datasource\u001b[0m\u001b[0;34m.\u001b[0m\u001b[0mopen\u001b[0m\u001b[0;34m(\u001b[0m\u001b[0mfname\u001b[0m\u001b[0;34m,\u001b[0m \u001b[0;34m'rt'\u001b[0m\u001b[0;34m,\u001b[0m \u001b[0mencoding\u001b[0m\u001b[0;34m=\u001b[0m\u001b[0mencoding\u001b[0m\u001b[0;34m)\u001b[0m\u001b[0;34m\u001b[0m\u001b[0;34m\u001b[0m\u001b[0m\n\u001b[0m\u001b[1;32m   1981\u001b[0m         \u001b[0mfid_ctx\u001b[0m \u001b[0;34m=\u001b[0m \u001b[0mcontextlib\u001b[0m\u001b[0;34m.\u001b[0m\u001b[0mclosing\u001b[0m\u001b[0;34m(\u001b[0m\u001b[0mfid\u001b[0m\u001b[0;34m)\u001b[0m\u001b[0;34m\u001b[0m\u001b[0;34m\u001b[0m\u001b[0m\n\u001b[1;32m   1982\u001b[0m     \u001b[0;32melse\u001b[0m\u001b[0;34m:\u001b[0m\u001b[0;34m\u001b[0m\u001b[0;34m\u001b[0m\u001b[0m\n",
            "\u001b[0;32m/usr/local/lib/python3.10/dist-packages/numpy/lib/_datasource.py\u001b[0m in \u001b[0;36mopen\u001b[0;34m(path, mode, destpath, encoding, newline)\u001b[0m\n\u001b[1;32m    191\u001b[0m \u001b[0;34m\u001b[0m\u001b[0m\n\u001b[1;32m    192\u001b[0m     \u001b[0mds\u001b[0m \u001b[0;34m=\u001b[0m \u001b[0mDataSource\u001b[0m\u001b[0;34m(\u001b[0m\u001b[0mdestpath\u001b[0m\u001b[0;34m)\u001b[0m\u001b[0;34m\u001b[0m\u001b[0;34m\u001b[0m\u001b[0m\n\u001b[0;32m--> 193\u001b[0;31m     \u001b[0;32mreturn\u001b[0m \u001b[0mds\u001b[0m\u001b[0;34m.\u001b[0m\u001b[0mopen\u001b[0m\u001b[0;34m(\u001b[0m\u001b[0mpath\u001b[0m\u001b[0;34m,\u001b[0m \u001b[0mmode\u001b[0m\u001b[0;34m,\u001b[0m \u001b[0mencoding\u001b[0m\u001b[0;34m=\u001b[0m\u001b[0mencoding\u001b[0m\u001b[0;34m,\u001b[0m \u001b[0mnewline\u001b[0m\u001b[0;34m=\u001b[0m\u001b[0mnewline\u001b[0m\u001b[0;34m)\u001b[0m\u001b[0;34m\u001b[0m\u001b[0;34m\u001b[0m\u001b[0m\n\u001b[0m\u001b[1;32m    194\u001b[0m \u001b[0;34m\u001b[0m\u001b[0m\n\u001b[1;32m    195\u001b[0m \u001b[0;34m\u001b[0m\u001b[0m\n",
            "\u001b[0;32m/usr/local/lib/python3.10/dist-packages/numpy/lib/_datasource.py\u001b[0m in \u001b[0;36mopen\u001b[0;34m(self, path, mode, encoding, newline)\u001b[0m\n\u001b[1;32m    531\u001b[0m                                       encoding=encoding, newline=newline)\n\u001b[1;32m    532\u001b[0m         \u001b[0;32melse\u001b[0m\u001b[0;34m:\u001b[0m\u001b[0;34m\u001b[0m\u001b[0;34m\u001b[0m\u001b[0m\n\u001b[0;32m--> 533\u001b[0;31m             \u001b[0;32mraise\u001b[0m \u001b[0mFileNotFoundError\u001b[0m\u001b[0;34m(\u001b[0m\u001b[0;34mf\"{path} not found.\"\u001b[0m\u001b[0;34m)\u001b[0m\u001b[0;34m\u001b[0m\u001b[0;34m\u001b[0m\u001b[0m\n\u001b[0m\u001b[1;32m    534\u001b[0m \u001b[0;34m\u001b[0m\u001b[0m\n\u001b[1;32m    535\u001b[0m \u001b[0;34m\u001b[0m\u001b[0m\n",
            "\u001b[0;31mFileNotFoundError\u001b[0m: group_project_data.txt not found."
          ]
        }
      ]
    },
    {
      "cell_type": "markdown",
      "source": [],
      "metadata": {
        "id": "KFVGM4wdoOyN"
      }
    },
    {
      "cell_type": "code",
      "source": [
        "# Harrison's ideas\n",
        "# split hours and minutes, combine them into hours\n",
        "time_list = []\n",
        "day_count = 0\n",
        "for i in times:\n",
        "    x = str(i[0]).split(':')\n",
        "\n",
        "    hs = int(x[0])\n",
        "    mins = int(x[1])\n",
        "\n",
        "    mins_to_hours = mins / 60\n",
        "    hours = hs + mins_to_hours\n",
        "    hours += day_count * 24\n",
        "    time_list.append(hours)\n",
        "\n",
        "    if len(time_list) % 2 == 0:\n",
        "        day_count += 1\n",
        "    else:\n",
        "        pass\n",
        "\n",
        "print(time_list)"
      ],
      "metadata": {
        "id": "KSuXXxU3quxp"
      },
      "execution_count": null,
      "outputs": []
    },
    {
      "cell_type": "code",
      "source": [
        "# Saul's Ideas\n",
        "\n",
        "data = [['1', '8:07', '6.57'], ['1', '15:37', '-0.39'], ['2', '8:55', '5.38'], ['2', '16:25', '-1.74'], ['3', '9:45', '5.26'], ['3', '17:14', '-1.36'], ['4', '10:35', '4.13'], ['4', '18:00', '-1.15'], ['5', '11:28', '3.48'], ['5', '18:46', '-1.61'], ['6', '12:22', '2.62'], ['6', '19:31', '0.05'], ['7', '13:24', '1.83'], ['7', '20:16', '1.01'], ['8', '3:22', '3.57'], ['8', '21:01', '0.73'], ['9', '4:07', '4.54'], ['9', '21:46', '2.17'], ['10', '4:50', '3.76'], ['10', '11:58', '2.88'], ['11', '5:31', '3.90'], ['11', '12:56', '1.92'], ['12', '6:08', '4.73'], ['12', '13:45', '1.74'], ['13', '6:47', '5.66'], ['13', '14:25', '0.79'], ['14', '7:22', '5.33'], ['14', '15:00', '-0.04'], ['15', '7:59', '5.23'], ['15', '15:34', '-1.12'], ['16', '8:34', '6.67'], ['16', '16:08', '-0.61'], ['17', '9:10', '4.74'], ['17', '16:41', '-0.93'], ['18', '9:45', '4.69'], ['18', '17:12', '-1.29'], ['19', '10:21', '4.20'], ['19', '17:45', '0.22'], ['20', '10:57', '3.68'], ['20', '18:15', '0.26'], ['21', '11:38', '2.47'], ['21', '18:48', '0.36'], ['22', '12:25', '2.59'], ['22', '19:20', '0.99'], ['23', '2:22', '4.10'], ['23', '19:52', '1.87'], ['24', '2:58', '3.17'], ['24', '20:30', '1.60'], ['25', '3:37', '3.71'], ['25', '10:44', '3.10'], ['26', '4:23', '4.04'], ['26', '11:55', '2.49'], ['27', '5:15', '4.07'], ['27', '12:57', '2.18'], ['28', '6:09', '5.93'], ['28', '13:50', '0.70'], ['29', '7:05', '6.89'], ['29', '14:39', '0.21'], ['30', '7:58', '6.72'], ['30', '15:27', '0.22'], ['31', '8:50', '6.77'], ['31', '16:10', '-1.68'], ['32', '9:40', '5.77'], ['32', '16:52', '-1.32'], ['33', '10:30', '4.35'], ['33', '17:34', '-0.73'], ['34', '11:19', '4.23'], ['34', '18:12', '-0.38'], ['35', '12:10', '2.24'], ['35', '18:49', '-0.61'], ['36', '1:32', '3.45'], ['36', '19:24', '-0.46'], ['37', '2:13', '4.13'], ['37', '20:00', '1.21'], ['38', '2:54', '3.34'], ['38', '9:54', '2.58'], ['39', '3:39', '3.32'], ['39', '11:15', '3.26'], ['40', '4:29', '5.21'], ['40', '12:22', '2.39'], ['41', '5:21', '4.83'], ['41', '13:14', '2.41']]\n",
        "\n",
        "# Convert the third column to float for calculations\n",
        "residuals = [float(item[2]) for item in data]\n",
        "\n",
        "# Plot histogram\n",
        "plt.figure(figsize=(10, 6))\n",
        "plt.hist(residuals, bins=20, color='lightblue', edgecolor='black')\n",
        "\n",
        "# Highlighting the outlier\n",
        "outlier_index = residuals.index(max(residuals))\n",
        "plt.axvline(x=residuals[outlier_index], color='red', linestyle='dashed', linewidth=2, label='Outlier')\n",
        "\n",
        "plt.title('Histogram of Residuals with Outlier')\n",
        "plt.xlabel('how much our expected height differs from our data')\n",
        "plt.ylabel('amount of times we saw this particular deviation')\n",
        "plt.legend()\n",
        "plt.grid(True)\n",
        "plt.show()\n",
        "plt.savefig(\"Histogram of Residuals with Outlier.pdf\")"
      ],
      "metadata": {
        "id": "uWcoAueZwzrH"
      },
      "execution_count": null,
      "outputs": []
    },
    {
      "cell_type": "code",
      "source": [],
      "metadata": {
        "id": "E4bhZGlAtH8f"
      },
      "execution_count": null,
      "outputs": []
    }
  ]
}